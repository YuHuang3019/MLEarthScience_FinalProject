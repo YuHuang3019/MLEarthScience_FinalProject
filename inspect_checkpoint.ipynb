{
 "cells": [
  {
   "cell_type": "code",
   "execution_count": 3,
   "metadata": {},
   "outputs": [],
   "source": [
    "import os\n",
    "os.chdir('/Users/weiweizhan/Desktop/Weiwei_Zhan/Projects/SIF_Predict/yao_sif_code/habanero/')\n",
    "import tensorflow as tf\n",
    "from inspect_checkpoint import print_tensors_in_checkpoint_file"
   ]
  },
  {
   "cell_type": "code",
   "execution_count": 4,
   "metadata": {},
   "outputs": [],
   "source": [
    "model_Dir   = './logs/1101_144623_sif_757nm_layers_7__kdr_1.0_ac_0_convo_False_variables_b1,b2,cos_sza_batchsize_1024/'\n"
   ]
  },
  {
   "cell_type": "code",
   "execution_count": 5,
   "metadata": {},
   "outputs": [
    {
     "name": "stdout",
     "output_type": "stream",
     "text": [
      "tensor_name:  beta1_power\n",
      "0.0\n",
      "tensor_name:  beta2_power\n",
      "2.985462e-35\n",
      "tensor_name:  layer1/biases/Variable\n",
      "[-0.17135318  0.00955105  0.27823696 -0.51261526 -0.47751567 -0.4550382\n",
      "  0.2701664 ]\n",
      "tensor_name:  layer1/biases/Variable/Adam\n",
      "[ 0.01435908 -0.00057732 -0.0025027  -0.02058681  0.01135797  0.01058584\n",
      "  0.00664983]\n",
      "tensor_name:  layer1/biases/Variable/Adam_1\n",
      "[6.4997748e-04 1.1789058e-05 3.6488113e-05 7.2875316e-04 2.1901132e-04\n",
      " 1.7781260e-04 9.6289354e-05]\n",
      "tensor_name:  layer1/weights/Variable\n",
      "[[-1.2092767   2.056899    0.38924095 -0.72375435 -0.67115057 -0.7320578\n",
      "   1.7005142 ]\n",
      " [ 0.7965219  -0.7075712   0.18987022 -0.44796944 -0.44408917 -0.34347752\n",
      "  -1.0765803 ]\n",
      " [ 0.18401822 -0.20027998  0.43489802 -1.0006597  -0.9523614  -0.88446486\n",
      "  -0.28175655]]\n",
      "tensor_name:  layer1/weights/Variable/Adam\n",
      "[[-1.0322141e-02 -6.3576136e-04  3.3238085e-03  1.2755537e-02\n",
      "  -7.0302901e-03 -6.6999989e-03 -1.5120736e-03]\n",
      " [ 5.5458811e-03 -6.1415735e-04  2.8366660e-05  1.6690616e-02\n",
      "  -9.0914732e-03 -8.3471164e-03 -2.8521135e-03]\n",
      " [ 2.0056862e-02 -3.7356274e-04 -3.4639365e-03  7.1388637e-03\n",
      "  -3.9200536e-03 -3.3047325e-03 -1.4305289e-03]]\n",
      "tensor_name:  layer1/weights/Variable/Adam_1\n",
      "[[4.1728388e-04 5.7983621e-06 1.8797242e-05 3.4731632e-04 1.0465554e-04\n",
      "  8.6680462e-05 3.5544184e-05]\n",
      " [1.7167043e-04 8.3636878e-06 1.6135757e-05 4.3061224e-04 1.2941941e-04\n",
      "  1.0264867e-04 6.1207422e-05]\n",
      " [3.8594246e-04 1.0562907e-05 2.5799964e-05 4.3545564e-04 1.3021039e-04\n",
      "  1.0303174e-04 7.1450013e-05]]\n",
      "tensor_name:  layerout/biases/Variable\n",
      "[0.17037511]\n",
      "tensor_name:  layerout/biases/Variable/Adam\n",
      "[-0.00628132]\n",
      "tensor_name:  layerout/biases/Variable/Adam_1\n",
      "[0.00262201]\n",
      "tensor_name:  layerout/weights/Variable\n",
      "[[ 0.80678475]\n",
      " [ 0.11962965]\n",
      " [-0.15275252]\n",
      " [ 0.9059603 ]\n",
      " [-0.494544  ]\n",
      " [-0.4402668 ]\n",
      " [-0.2651121 ]]\n",
      "tensor_name:  layerout/weights/Variable/Adam\n",
      "[[ 0.02247242]\n",
      " [-0.00671963]\n",
      " [ 0.00591528]\n",
      " [-0.01467911]\n",
      " [-0.01428739]\n",
      " [-0.01335104]\n",
      " [-0.01018008]]\n",
      "tensor_name:  layerout/weights/Variable/Adam_1\n",
      "[[0.00060691]\n",
      " [0.00062859]\n",
      " [0.00075883]\n",
      " [0.00073667]\n",
      " [0.0006833 ]\n",
      " [0.00059308]\n",
      " [0.00053871]]\n",
      "tensor_name:  lr\n",
      "1.953125e-06\n",
      "tensor_name:  step\n",
      "79457\n"
     ]
    }
   ],
   "source": [
    "latest_ckp = tf.train.latest_checkpoint(model_Dir)\n",
    "print_tensors_in_checkpoint_file(latest_ckp, all_tensors=True,  tensor_name='')"
   ]
  },
  {
   "cell_type": "code",
   "execution_count": 6,
   "metadata": {},
   "outputs": [
    {
     "name": "stdout",
     "output_type": "stream",
     "text": [
      "tensor_name:  layer1/biases/Variable\n",
      "[-0.17135318  0.00955105  0.27823696 -0.51261526 -0.47751567 -0.4550382\n",
      "  0.2701664 ]\n",
      "tensor_name:  layer1/weights/Variable\n",
      "[[-1.2092767   2.056899    0.38924095 -0.72375435 -0.67115057 -0.7320578\n",
      "   1.7005142 ]\n",
      " [ 0.7965219  -0.7075712   0.18987022 -0.44796944 -0.44408917 -0.34347752\n",
      "  -1.0765803 ]\n",
      " [ 0.18401822 -0.20027998  0.43489802 -1.0006597  -0.9523614  -0.88446486\n",
      "  -0.28175655]]\n",
      "tensor_name:  layerout/biases/Variable\n",
      "[0.17037511]\n",
      "tensor_name:  layerout/weights/Variable\n",
      "[[ 0.80678475]\n",
      " [ 0.11962965]\n",
      " [-0.15275252]\n",
      " [ 0.9059603 ]\n",
      " [-0.494544  ]\n",
      " [-0.4402668 ]\n",
      " [-0.2651121 ]]\n"
     ]
    }
   ],
   "source": [
    "print_tensors_in_checkpoint_file(latest_ckp, all_tensors=False, tensor_name='layer1/biases/Variable')\n",
    "print_tensors_in_checkpoint_file(latest_ckp, all_tensors=False, tensor_name='layer1/weights/Variable')\n",
    "print_tensors_in_checkpoint_file(latest_ckp, all_tensors=False, tensor_name='layerout/biases/Variable')\n",
    "print_tensors_in_checkpoint_file(latest_ckp, all_tensors=False, tensor_name='layerout/weights/Variable')"
   ]
  },
  {
   "cell_type": "code",
   "execution_count": null,
   "metadata": {},
   "outputs": [],
   "source": []
  }
 ],
 "metadata": {
  "kernelspec": {
   "display_name": "Python 3",
   "language": "python",
   "name": "python3"
  },
  "language_info": {
   "codemirror_mode": {
    "name": "ipython",
    "version": 3
   },
   "file_extension": ".py",
   "mimetype": "text/x-python",
   "name": "python",
   "nbconvert_exporter": "python",
   "pygments_lexer": "ipython3",
   "version": "3.6.9"
  }
 },
 "nbformat": 4,
 "nbformat_minor": 4
}
